{
  "nbformat": 4,
  "nbformat_minor": 0,
  "metadata": {
    "colab": {
      "provenance": [],
      "authorship_tag": "ABX9TyNS4dT0PUeZ4z5yzKmBoPmU",
      "include_colab_link": true
    },
    "kernelspec": {
      "name": "python3",
      "display_name": "Python 3"
    },
    "language_info": {
      "name": "python"
    }
  },
  "cells": [
    {
      "cell_type": "markdown",
      "metadata": {
        "id": "view-in-github",
        "colab_type": "text"
      },
      "source": [
        "<a href=\"https://colab.research.google.com/github/charm-23/dataset-encoding/blob/main/ORDINAL_ONE_HOT_ENCODING.ipynb\" target=\"_parent\"><img src=\"https://colab.research.google.com/assets/colab-badge.svg\" alt=\"Open In Colab\"/></a>"
      ]
    },
    {
      "cell_type": "markdown",
      "source": [
        "*ORDINAL ENCODING*"
      ],
      "metadata": {
        "id": "oT3EH_YzcTJw"
      }
    },
    {
      "cell_type": "code",
      "execution_count": null,
      "metadata": {
        "id": "QKSSk05rV4Ei"
      },
      "outputs": [],
      "source": [
        "import pandas as pd"
      ]
    },
    {
      "cell_type": "code",
      "source": [
        "url = \"https://archive.ics.uci.edu/ml/machine-learning-databases/iris/iris.data\"\n",
        "df = pd.read_csv(url, header=None)\n"
      ],
      "metadata": {
        "id": "RacDuD42YZir"
      },
      "execution_count": null,
      "outputs": []
    },
    {
      "cell_type": "code",
      "source": [
        "df.columns = ['sepal_length', 'sepal_width', 'petal_length', 'petal_width', 'species']\n"
      ],
      "metadata": {
        "id": "DLAsOA-IYdH2"
      },
      "execution_count": null,
      "outputs": []
    },
    {
      "cell_type": "code",
      "source": [
        "print(\"Unique species values:\")\n",
        "print(df['species'].unique())"
      ],
      "metadata": {
        "colab": {
          "base_uri": "https://localhost:8080/"
        },
        "id": "dr_VhVyBYgHB",
        "outputId": "15ebc6a4-ca67-428e-8eab-a9da90a2d4ab"
      },
      "execution_count": null,
      "outputs": [
        {
          "output_type": "stream",
          "name": "stdout",
          "text": [
            "Unique species values:\n",
            "['Iris-setosa' 'Iris-versicolor' 'Iris-virginica']\n"
          ]
        }
      ]
    },
    {
      "cell_type": "code",
      "source": [
        "df['species'] = df['species'].str.strip()"
      ],
      "metadata": {
        "id": "Nsk84NhsbZYL"
      },
      "execution_count": null,
      "outputs": []
    },
    {
      "cell_type": "code",
      "source": [
        "print(\"Normalized species values:\")\n",
        "print(df['species'].unique())"
      ],
      "metadata": {
        "colab": {
          "base_uri": "https://localhost:8080/"
        },
        "id": "r0kQrWa-bbvx",
        "outputId": "4ffd37d1-5bf3-4913-cf15-8fdeb9e41766"
      },
      "execution_count": null,
      "outputs": [
        {
          "output_type": "stream",
          "name": "stdout",
          "text": [
            "Normalized species values:\n",
            "['Iris-setosa' 'Iris-versicolor' 'Iris-virginica']\n"
          ]
        }
      ]
    },
    {
      "cell_type": "code",
      "source": [
        "species_mapping = {\n",
        "    'Iris-setosa': 0,\n",
        "    'Iris-versicolor': 1,\n",
        "    'Iris-virginica': 2\n",
        "}"
      ],
      "metadata": {
        "id": "KrWUDAD0ZYLo"
      },
      "execution_count": null,
      "outputs": []
    },
    {
      "cell_type": "code",
      "source": [
        "df['species_encoded'] = df['species'].map(species_mapping)"
      ],
      "metadata": {
        "id": "3bRljW-kZcko"
      },
      "execution_count": null,
      "outputs": []
    },
    {
      "cell_type": "code",
      "source": [
        "print(\"DataFrame after Ordinal Encoding:\")\n",
        "print(df)\n"
      ],
      "metadata": {
        "colab": {
          "base_uri": "https://localhost:8080/"
        },
        "id": "_fXZvgV_Zfof",
        "outputId": "65cfd8f6-9b79-47fd-ec76-5df604d55677"
      },
      "execution_count": null,
      "outputs": [
        {
          "output_type": "stream",
          "name": "stdout",
          "text": [
            "DataFrame after Ordinal Encoding:\n",
            "     sepal_length  sepal_width  petal_length  petal_width         species  \\\n",
            "0             5.1          3.5           1.4          0.2     Iris-setosa   \n",
            "1             4.9          3.0           1.4          0.2     Iris-setosa   \n",
            "2             4.7          3.2           1.3          0.2     Iris-setosa   \n",
            "3             4.6          3.1           1.5          0.2     Iris-setosa   \n",
            "4             5.0          3.6           1.4          0.2     Iris-setosa   \n",
            "..            ...          ...           ...          ...             ...   \n",
            "145           6.7          3.0           5.2          2.3  Iris-virginica   \n",
            "146           6.3          2.5           5.0          1.9  Iris-virginica   \n",
            "147           6.5          3.0           5.2          2.0  Iris-virginica   \n",
            "148           6.2          3.4           5.4          2.3  Iris-virginica   \n",
            "149           5.9          3.0           5.1          1.8  Iris-virginica   \n",
            "\n",
            "     species_encoded  \n",
            "0                  0  \n",
            "1                  0  \n",
            "2                  0  \n",
            "3                  0  \n",
            "4                  0  \n",
            "..               ...  \n",
            "145                2  \n",
            "146                2  \n",
            "147                2  \n",
            "148                2  \n",
            "149                2  \n",
            "\n",
            "[150 rows x 6 columns]\n"
          ]
        }
      ]
    },
    {
      "cell_type": "markdown",
      "source": [
        "***ONE HOT ENCODING***"
      ],
      "metadata": {
        "id": "HdcZOCK_cfuy"
      }
    },
    {
      "cell_type": "code",
      "source": [
        "\n",
        "print(\"Original DataFrame:\")\n",
        "print(df.head())\n",
        "\n",
        "unique_species = df['species'].unique()\n",
        "num_categories = len(unique_species)\n",
        "\n",
        "onehot_encoded = pd.DataFrame(0, index=df.index, columns=unique_species)\n",
        "\n",
        "for index, row in df.iterrows():\n",
        "    onehot_encoded.at[index, row['species']] = 1\n",
        "\n",
        "df_onehot = pd.concat([df, onehot_encoded], axis=1)\n",
        "\n",
        "print(\"DataFrame after One-Hot Encoding:\")\n",
        "print(df_onehot.head())\n"
      ],
      "metadata": {
        "colab": {
          "base_uri": "https://localhost:8080/"
        },
        "id": "bFVLtXK8clGN",
        "outputId": "a53e48db-083e-4147-d273-b263436e6c1a"
      },
      "execution_count": null,
      "outputs": [
        {
          "output_type": "stream",
          "name": "stdout",
          "text": [
            "Original DataFrame:\n",
            "   sepal_length  sepal_width  petal_length  petal_width      species\n",
            "0           5.1          3.5           1.4          0.2  Iris-setosa\n",
            "1           4.9          3.0           1.4          0.2  Iris-setosa\n",
            "2           4.7          3.2           1.3          0.2  Iris-setosa\n",
            "3           4.6          3.1           1.5          0.2  Iris-setosa\n",
            "4           5.0          3.6           1.4          0.2  Iris-setosa\n",
            "\n",
            "DataFrame after One-Hot Encoding:\n",
            "   sepal_length  sepal_width  petal_length  petal_width      species  \\\n",
            "0           5.1          3.5           1.4          0.2  Iris-setosa   \n",
            "1           4.9          3.0           1.4          0.2  Iris-setosa   \n",
            "2           4.7          3.2           1.3          0.2  Iris-setosa   \n",
            "3           4.6          3.1           1.5          0.2  Iris-setosa   \n",
            "4           5.0          3.6           1.4          0.2  Iris-setosa   \n",
            "\n",
            "   Iris-setosa  Iris-versicolor  Iris-virginica  \n",
            "0            1                0               0  \n",
            "1            1                0               0  \n",
            "2            1                0               0  \n",
            "3            1                0               0  \n",
            "4            1                0               0  \n"
          ]
        }
      ]
    }
  ]
}